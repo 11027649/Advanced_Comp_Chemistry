{
 "cells": [
  {
   "cell_type": "code",
   "execution_count": 6,
   "metadata": {},
   "outputs": [
    {
     "name": "stdout",
     "output_type": "stream",
     "text": [
      "BBr3 -306.64kcal/mol\n",
      "BBr3NH3 -776.28kcal/mol\n",
      "BCl3 -359.04kcal/mol\n",
      "BCl3NH3 -825.54kcal/mol\n",
      "BF3 -534.74kcal/mol\n",
      "BF3NH3 -999.91kcal/mol\n",
      "BH3 -362.87kcal/mol\n",
      "BH3NH3 -824.01kcal/mol\n",
      "BH3NME3 -1925.99kcal/mol\n",
      "NH3 -446.48kcal/mol\n",
      "NME3 -1555.24kcal/mol\n"
     ]
    }
   ],
   "source": [
    "import matplotlib.pyplot as plt\n",
    "\n",
    "molecules = [\"BBr3\", \"BBr3NH3\", \n",
    "             \"BCl3\", \"BCl3NH3\", \n",
    "             \"BF3\", \"BF3NH3\", \n",
    "             \"BH3\", \"BH3NH3\", \n",
    "             \"BH3NME3\", \n",
    "             \"NH3\", \"NME3\", ]\n",
    "\n",
    "complexes = [\"BBr3NH3\", \"BCl3NH3\", \"BF3NH3\", \"BH3NH3\", \"BH3NME3\"]\n",
    "\n",
    "energies = {}\n",
    "\n",
    "for molecule in molecules:\n",
    "    with open(\"molecules/\" + molecule + \"/go\" + molecule +\".out\", 'r') as output:\n",
    "        lines = output.readlines()\n",
    "\n",
    "    for line in lines:\n",
    "        if \"Bond Energy\" in line:\n",
    "            words = line.split()\n",
    "            \n",
    "            energies[molecule] = float(words[4])\n",
    "            \n",
    "for energy in energies:\n",
    "    print(energy, str(energies[energy]) + \"kcal/mol\")"
   ]
  },
  {
   "cell_type": "code",
   "execution_count": 7,
   "metadata": {},
   "outputs": [],
   "source": [
    "bondenergies = {}\n",
    "bondenergies[\"BH3NH3\"] = energies[\"NH3\"] + energies[\"BH3\"] - energies[\"BH3NH3\"]\n",
    "bondenergies[\"BF3NH3\"] = energies[\"NH3\"] + energies[\"BF3\"] - energies[\"BF3NH3\"]\n",
    "bondenergies[\"BCl3NH3\"] = energies[\"NH3\"] + energies[\"BCl3\"] - energies[\"BCl3NH3\"]\n",
    "bondenergies[\"BBr3NH3\"] = energies[\"NH3\"] + energies[\"BBr3\"] - energies[\"BBr3NH3\"]\n",
    "bondenergies[\"BH3NME3\"] = energies[\"NME3\"] + energies[\"BH3\"] - energies[\"BH3NME3\"]"
   ]
  },
  {
   "cell_type": "code",
   "execution_count": 8,
   "metadata": {},
   "outputs": [
    {
     "data": {
      "text/plain": [
       "Text(0,0.5,'Energy (kcal/mol)')"
      ]
     },
     "execution_count": 8,
     "metadata": {},
     "output_type": "execute_result"
    },
    {
     "data": {
      "image/png": "[encoded data removed]",
      "text/plain": [
       "<Figure size 432x288 with 1 Axes>"
      ]
     },
     "metadata": {
      "needs_background": "light"
     },
     "output_type": "display_data"
    }
   ],
   "source": [
    "plt.bar(range(len(bondenergies)), list(bondenergies.values()), align='center')\n",
    "plt.xticks(range(len(bondenergies)), list(bondenergies.keys()))\n",
    "plt.title(\"Bond energies\")\n",
    "plt.xlabel(\"Molecule\")\n",
    "plt.ylabel(\"Energy (kcal/mol)\")"
   ]
  },
  {
   "cell_type": "code",
   "execution_count": 12,
   "metadata": {},
   "outputs": [
    {
     "name": "stdout",
     "output_type": "stream",
     "text": [
      "hoi\n"
     ]
    },
    {
     "ename": "FileNotFoundError",
     "evalue": "[Errno 2] No such file or directory: 'molecules/BCl3NH3/faBCl3NH3.out'",
     "output_type": "error",
     "traceback": [
      "\u001b[1;31m---------------------------------------------------------------------------\u001b[0m",
      "\u001b[1;31mFileNotFoundError\u001b[0m                         Traceback (most recent call last)",
      "\u001b[1;32m<ipython-input-12-fca6b284ba86>\u001b[0m in \u001b[0;36m<module>\u001b[1;34m()\u001b[0m\n\u001b[0;32m      1\u001b[0m \u001b[1;32mfor\u001b[0m \u001b[0mc\u001b[0m \u001b[1;32min\u001b[0m \u001b[0mcomplexes\u001b[0m\u001b[1;33m:\u001b[0m\u001b[1;33m\u001b[0m\u001b[0m\n\u001b[1;32m----> 2\u001b[1;33m     \u001b[1;32mwith\u001b[0m \u001b[0mopen\u001b[0m\u001b[1;33m(\u001b[0m\u001b[1;34m\"molecules/\"\u001b[0m \u001b[1;33m+\u001b[0m \u001b[0mc\u001b[0m \u001b[1;33m+\u001b[0m \u001b[1;34m\"/fa\"\u001b[0m \u001b[1;33m+\u001b[0m \u001b[0mc\u001b[0m \u001b[1;33m+\u001b[0m\u001b[1;34m\".out\"\u001b[0m\u001b[1;33m,\u001b[0m \u001b[1;34m'r'\u001b[0m\u001b[1;33m)\u001b[0m \u001b[1;32mas\u001b[0m \u001b[0moutput\u001b[0m\u001b[1;33m:\u001b[0m\u001b[1;33m\u001b[0m\u001b[0m\n\u001b[0m\u001b[0;32m      3\u001b[0m         \u001b[0mprint\u001b[0m\u001b[1;33m(\u001b[0m\u001b[1;34m\"hoi\"\u001b[0m\u001b[1;33m)\u001b[0m\u001b[1;33m\u001b[0m\u001b[0m\n",
      "\u001b[1;31mFileNotFoundError\u001b[0m: [Errno 2] No such file or directory: 'molecules/BCl3NH3/faBCl3NH3.out'"
     ]
    }
   ],
   "source": [
    "for c in complexes:\n",
    "    with open(\"molecules/\" + c + \"/fa\" + c +\".out\", 'r') as output:\n",
    "        print(\"hoi\")"
   ]
  },
  {
   "cell_type": "code",
   "execution_count": null,
   "metadata": {},
   "outputs": [],
   "source": []
  }
 ],
 "metadata": {
  "kernelspec": {
   "display_name": "Python 3",
   "language": "python",
   "name": "python3"
  },
  "language_info": {
   "codemirror_mode": {
    "name": "ipython",
    "version": 3
   },
   "file_extension": ".py",
   "mimetype": "text/x-python",
   "name": "python",
   "nbconvert_exporter": "python",
   "pygments_lexer": "ipython3",
   "version": "3.7.0"
  }
 },
 "nbformat": 4,
 "nbformat_minor": 2
}
