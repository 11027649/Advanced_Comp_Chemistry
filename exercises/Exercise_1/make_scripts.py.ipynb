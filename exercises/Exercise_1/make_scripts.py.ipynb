{
 "cells": [
  {
   "cell_type": "code",
   "execution_count": 18,
   "metadata": {},
   "outputs": [],
   "source": [
    "import os\n",
    "\n",
    "for fragment in os.listdir('coordinates'):\n",
    "    molecule = fragment.split('.')[0]\n",
    "    \n",
    "    if not os.path.exists('molecules/' + molecule):\n",
    "        os.mkdir('molecules/' + molecule)\n",
    "        \n",
    "        \n",
    "    with open(\"GO_empty.txt\") as runfile:          \n",
    "        script = runfile.readlines()\n",
    "        \n",
    "        filename = 'go' + molecule\n",
    "        \n",
    "    with open('molecules/' + molecule + '/' + filename, 'w') as f:\n",
    "        for line in script:\n",
    "\n",
    "            if line.startswith('ATOM'):\n",
    "                f.writelines([line])\n",
    "\n",
    "                with open('coordinates/' + fragment, 'r') as coordinates_file:\n",
    "                    coordinates = coordinates_file.readlines()\n",
    "                \n",
    "                    f.writelines(coordinates)\n",
    "                    f.writelines(['\\n'])\n",
    "                    \n",
    "\n",
    "            else:\n",
    "                f.writelines([line])\n",
    "        "
   ]
  },
  {
   "cell_type": "code",
   "execution_count": null,
   "metadata": {},
   "outputs": [],
   "source": []
  }
 ],
 "metadata": {
  "kernelspec": {
   "display_name": "Python 3",
   "language": "python",
   "name": "python3"
  },
  "language_info": {
   "codemirror_mode": {
    "name": "ipython",
    "version": 3
   },
   "file_extension": ".py",
   "mimetype": "text/x-python",
   "name": "python",
   "nbconvert_exporter": "python",
   "pygments_lexer": "ipython3",
   "version": "3.7.0"
  }
 },
 "nbformat": 4,
 "nbformat_minor": 2
}
