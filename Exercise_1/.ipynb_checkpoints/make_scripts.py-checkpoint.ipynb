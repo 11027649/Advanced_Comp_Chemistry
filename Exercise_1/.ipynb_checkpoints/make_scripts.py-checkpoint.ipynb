{
 "cells": [
  {
   "cell_type": "code",
   "execution_count": 17,
   "metadata": {},
   "outputs": [
    {
     "ename": "FileNotFoundError",
     "evalue": "[WinError 3] Het systeem kan het opgegeven pad niet vinden: 'molcules/NH3BH3'",
     "output_type": "error",
     "traceback": [
      "\u001b[1;31m---------------------------------------------------------------------------\u001b[0m",
      "\u001b[1;31mFileNotFoundError\u001b[0m                         Traceback (most recent call last)",
      "\u001b[1;32m<ipython-input-17-da4dc127300f>\u001b[0m in \u001b[0;36m<module>\u001b[1;34m()\u001b[0m\n\u001b[0;32m      5\u001b[0m \u001b[1;33m\u001b[0m\u001b[0m\n\u001b[0;32m      6\u001b[0m     \u001b[1;32mif\u001b[0m \u001b[1;32mnot\u001b[0m \u001b[0mos\u001b[0m\u001b[1;33m.\u001b[0m\u001b[0mpath\u001b[0m\u001b[1;33m.\u001b[0m\u001b[0mexists\u001b[0m\u001b[1;33m(\u001b[0m\u001b[1;34m'molecules/'\u001b[0m \u001b[1;33m+\u001b[0m \u001b[0mmolecule\u001b[0m\u001b[1;33m)\u001b[0m\u001b[1;33m:\u001b[0m\u001b[1;33m\u001b[0m\u001b[0m\n\u001b[1;32m----> 7\u001b[1;33m         \u001b[0mos\u001b[0m\u001b[1;33m.\u001b[0m\u001b[0mmkdir\u001b[0m\u001b[1;33m(\u001b[0m\u001b[1;34m'molcules/'\u001b[0m \u001b[1;33m+\u001b[0m \u001b[0mmolecule\u001b[0m\u001b[1;33m)\u001b[0m\u001b[1;33m\u001b[0m\u001b[0m\n\u001b[0m\u001b[0;32m      8\u001b[0m \u001b[1;33m\u001b[0m\u001b[0m\n\u001b[0;32m      9\u001b[0m \u001b[1;33m\u001b[0m\u001b[0m\n",
      "\u001b[1;31mFileNotFoundError\u001b[0m: [WinError 3] Het systeem kan het opgegeven pad niet vinden: 'molcules/NH3BH3'"
     ]
    }
   ],
   "source": [
    "import os\n",
    "\n",
    "for fragment in os.listdir('coordinates'):\n",
    "    molecule = fragment.split('.')[0]\n",
    "    \n",
    "    if not os.path.exists('molecules/' + molecule):\n",
    "        os.mkdir('molcules/' + molecule)\n",
    "        \n",
    "        \n",
    "    with open(\"GO_empty.txt\") as runfile:          \n",
    "        script = runfile.readlines()\n",
    "        \n",
    "        filename = 'go' + molecule\n",
    "        \n",
    "    with open('molecules/' + molecule + '/' + filename, 'w') as f:\n",
    "        for line in script:\n",
    "\n",
    "            if line.startswith('ATOM'):\n",
    "                f.writelines([line])\n",
    "\n",
    "                with open('coordinates/' + fragment, 'r') as coordinates_file:\n",
    "                    coordinates = coordinates_file.readlines()\n",
    "                \n",
    "                    f.writelines(coordinates)\n",
    "                    f.writelines(['\\n'])\n",
    "                    \n",
    "\n",
    "            else:\n",
    "                f.writelines([line])\n",
    "        "
   ]
  },
  {
   "cell_type": "code",
   "execution_count": null,
   "metadata": {},
   "outputs": [],
   "source": []
  }
 ],
 "metadata": {
  "kernelspec": {
   "display_name": "Python 3",
   "language": "python",
   "name": "python3"
  },
  "language_info": {
   "codemirror_mode": {
    "name": "ipython",
    "version": 3
   },
   "file_extension": ".py",
   "mimetype": "text/x-python",
   "name": "python",
   "nbconvert_exporter": "python",
   "pygments_lexer": "ipython3",
   "version": "3.7.0"
  }
 },
 "nbformat": 4,
 "nbformat_minor": 2
}
